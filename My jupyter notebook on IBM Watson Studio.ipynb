{
 "cells": [
  {
   "cell_type": "markdown",
   "id": "5095ff92",
   "metadata": {},
   "source": [
    "# My Jupyter Notebook on IBM Watson Studio"
   ]
  },
  {
   "cell_type": "markdown",
   "id": "5f414788",
   "metadata": {},
   "source": [
    "**Alessandro** <br> I am a machine learning apprentice and software tester. I'd like to become a data scientist."
   ]
  },
  {
   "cell_type": "markdown",
   "id": "f9709169",
   "metadata": {},
   "source": [
    "*I'm interested in data science because i like analysing data in the biomedical field in order to help clinicians to solve healthcare problems.*"
   ]
  },
  {
   "cell_type": "markdown",
   "id": "ed7a9703",
   "metadata": {},
   "source": [
    "### the following code shows an elementary mathematical operation"
   ]
  },
  {
   "cell_type": "code",
   "execution_count": 2,
   "id": "7bf4533f",
   "metadata": {},
   "outputs": [
    {
     "name": "stdout",
     "output_type": "stream",
     "text": [
      "5\n"
     ]
    }
   ],
   "source": [
    "a = 2\n",
    "b = 3\n",
    "print(a+b)"
   ]
  },
  {
   "cell_type": "markdown",
   "id": "567f6460",
   "metadata": {},
   "source": [
    "numbered list of cities:\n",
    "1. New York\n",
    "2. London\n",
    "3. Rome"
   ]
  },
  {
   "cell_type": "markdown",
   "id": "4bf5f91f",
   "metadata": {},
   "source": [
    "first horizontal rule: <br>\n",
    "\n",
    "--- \n",
    "\n",
    "second horizontal rule: <br>\n",
    "\n",
    "***"
   ]
  },
  {
   "cell_type": "markdown",
   "id": "4525b9f8",
   "metadata": {},
   "source": [
    "table:\n",
    "\n",
    "| name | age |\n",
    "| ---- | ---- |\n",
    "|Alessandro|20|\n",
    "|Andrea|15|"
   ]
  },
  {
   "cell_type": "code",
   "execution_count": null,
   "id": "3585bee7",
   "metadata": {},
   "outputs": [],
   "source": []
  }
 ],
 "metadata": {
  "kernelspec": {
   "display_name": "Python 3 (ipykernel)",
   "language": "python",
   "name": "python3"
  },
  "language_info": {
   "codemirror_mode": {
    "name": "ipython",
    "version": 3
   },
   "file_extension": ".py",
   "mimetype": "text/x-python",
   "name": "python",
   "nbconvert_exporter": "python",
   "pygments_lexer": "ipython3",
   "version": "3.9.13"
  }
 },
 "nbformat": 4,
 "nbformat_minor": 5,
}
